{
 "cells": [
  {
   "cell_type": "markdown",
   "metadata": {
    "id": "FMqboNwO4rVs"
   },
   "source": [
    "# **Курс \"Програмування на мові Python\"**\n",
    "\n",
    "##### Викладачі:\n",
    "##### Борисенко Павло Борисович\n",
    "##### Щьоголєв Максим Олегович\n"
   ]
  },
  {
   "cell_type": "markdown",
   "metadata": {
    "id": "A2T6MigL5Z06"
   },
   "source": [
    "## **Практичне зайняття №9**\n",
    "\n",
    "### Тема: \"Лямбда-функції. Функції вищих порядків\""
   ]
  },
  {
   "cell_type": "markdown",
   "metadata": {
    "id": "cfCdgK2zXm7e"
   },
   "source": [
    "### **Завдання 1 (1 бал)**\n",
    "\n",
    "Продавець роздрібного товару влаштовує розпродаж. Для всіх товарів знижка однакова - 60%. Щоб вивісити нові цінники, продавець хоче скласти таблицю, в якій для кожного товару буде підрахована його нова вартість та сума знижки.\n",
    "\n",
    "Написати програму, яка буде генерувати таку таблицю. Вартість одиниць товарів до розпродажу подано у списку products_list. \n",
    "\n",
    "1. Для підрахунку невідомих значень повинні використовуватись вбудовані функції вищих порядків.\n",
    "\n",
    "2. Вартість з урахуванням знижки та суми знижок для кожного товару повинні зберігатись у двох окремих списках. Порядок товарів у нових списках повинен бути такий самий, як і в списку products_list.\n",
    "\n",
    "3. Кожне підраховане числове значення має бути округлене до сотих.\n",
    "\n",
    "4. Дані повинні виводитись у вигляді:\n",
    "\n",
    "**Discount table:**\n",
    "\n",
    "**29.25 11.7 17.55**\n",
    "\n",
    "**48.99 19.6 29.39**\n",
    "\n",
    "**...**\n",
    "\n",
    "\n",
    "products_list = [[29.25, 48.99, 99.98, 124.65, 214.30, 543.90, 799.85]]\n"
   ]
  },
  {
   "cell_type": "code",
   "execution_count": 8,
   "metadata": {
    "id": "ifNX2M7LXm7f"
   },
   "outputs": [
    {
     "name": "stdout",
     "output_type": "stream",
     "text": [
      "Discount table:\n",
      "29.25 11.7 17.55 \n",
      "48.99 19.6 29.39 \n",
      "99.98 39.99 59.99 \n",
      "124.65 49.86 74.79 \n",
      "214.3 85.72 128.58 \n",
      "543.9 217.56 326.34 \n",
      "799.85 319.94 479.91 \n"
     ]
    }
   ],
   "source": [
    "def procent(a):\n",
    "    return round(a*0.4, 2)\n",
    "\n",
    "def end(a,b):\n",
    "    return a-b\n",
    "\n",
    "def apply(x, *lst):\n",
    "    for i in lst:\n",
    "        print(i[x],'',end='')\n",
    "    print()\n",
    "\n",
    "products_list = [29.25, 48.99, 99.98, 124.65, 214.30, 543.90, 799.85]\n",
    "\n",
    "print(\"Discount table:\")\n",
    "\n",
    "list_procent = list(map(procent, products_list))\n",
    "list_end= list(map(end, products_list,list_procent))\n",
    "\n",
    "for i in range(len(products_list)):\n",
    "    apply(i,products_list,list_procent,list_end)"
   ]
  },
  {
   "cell_type": "markdown",
   "metadata": {},
   "source": [
    "### **Завдання 2 (2 бали)**\n",
    "\n",
    "Зазвичай рік має 365 днів. Однак у високосні роки додається ще один день - 29 лютого. Правила визначення високосного року такі:\n",
    "\n",
    "- Будь-який рік, що ділиться на 400 - високосний.\n",
    "\n",
    "- З тих років, що залишились, будь-який рік, що ділиться на 100 - **не** високосний.\n",
    "\n",
    "- З тих років, що залишились, будь-який рік, що ділиться на 4 - високосний.\n",
    "\n",
    "- Усі інші роки, що залишились - **не** високосні.\n",
    "\n",
    "1) Створіть функцію, в якій за допомогою вбудованих функцій вищих порядків будуть визначатися високосні роки серед перелічених років у списку years. Створена функція має повертати список високосних років.\n",
    "\n",
    "2) Створіть функцію вищих порядків, яка прийматиме на вхід попередню функцію та визначатиме кількість днів у місяці. Також функція повинна приймати на вхід ще 2 параметри: ціле число від 1 до 12 (місяць) та рік, як ціле чотирицифрове число. Ці значення корисувач має вводити з клавіатури. Перевірку введених даних слід виконувати поза межами функцій."
   ]
  },
  {
   "cell_type": "code",
   "execution_count": null,
   "metadata": {},
   "outputs": [],
   "source": [
    "import numpy as np\n",
    "\n",
    "def vysok(years):\n",
    "    vk=[]\n",
    "    for year in years:\n",
    "        if year % 400 == 0:\n",
    "            vk.append(year)\n",
    "        if year % 100 == 0:\n",
    "            continue\n",
    "        if year % 4 == 0:\n",
    "            vk.append(year)\n",
    "    return vk\n",
    "\n",
    "\n",
    "\n",
    "def day_v(year,month,vysok,years):\n",
    "    m1,m2 = [1,3,5,7,8,10,12],[4,6,9,11]\n",
    "    if month in m1:\n",
    "        return 31\n",
    "    elif month in m2:\n",
    "        return 30\n",
    "    else:\n",
    "        if year in vysok(years):\n",
    "            return 29\n",
    "        else:\n",
    "            return 28\n",
    "\n",
    "\n",
    "years = np.arange(1900, 2020+1, 1)\n",
    "\n",
    "while True:\n",
    "    year=int(input(\"Year:\"))\n",
    "    month = int(input(\"Month:\"))\n",
    "    if year>2020 or year<1900 or month<1 or month>12:\n",
    "        print(\"Incorect\")\n",
    "        continue\n",
    "    break\n",
    "\n",
    "print(day_v(year,month,vysok,years))"
   ]
  }
 ],
 "metadata": {
  "colab": {
   "collapsed_sections": [],
   "name": "Practice_7_KM-01_.ipynb",
   "provenance": []
  },
  "kernelspec": {
   "display_name": "Python 3",
   "language": "python",
   "name": "python3"
  },
  "language_info": {
   "codemirror_mode": {
    "name": "ipython",
    "version": 3
   },
   "file_extension": ".py",
   "mimetype": "text/x-python",
   "name": "python",
   "nbconvert_exporter": "python",
   "pygments_lexer": "ipython3",
   "version": "3.8.3"
  }
 },
 "nbformat": 4,
 "nbformat_minor": 1
}
