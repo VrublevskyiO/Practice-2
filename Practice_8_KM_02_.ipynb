{
 "cells": [
  {
   "cell_type": "markdown",
   "metadata": {
    "id": "FMqboNwO4rVs"
   },
   "source": [
    "# **Курс \"Програмування на мові Python\"**\n",
    "\n",
    "##### Викладачі:\n",
    "##### Борисенко Павло Борисович\n",
    "##### Щьоголєв Максим Олегович\n"
   ]
  },
  {
   "cell_type": "markdown",
   "metadata": {
    "id": "A2T6MigL5Z06"
   },
   "source": [
    "## **Практичне зайняття №8**\n",
    "\n",
    "### Тема: \"Робота з функціями. Локальні та глобальні змінні\""
   ]
  },
  {
   "cell_type": "markdown",
   "metadata": {
    "id": "cfCdgK2zXm7e"
   },
   "source": [
    "### **Завдання 1 (3 бали)**\n",
    "\n",
    "**Підрахувати визначник матриці, використовуючи правило перестановок.**\n",
    "\n",
    "Функція random_matrix() призначена для створення квадратної матриці випадкових чисел. Її змінювати непотрібно.\n",
    "\n",
    "Приклад використання методу permutations() для створення списку перестановок також подається у комірці з кодом.\n",
    "\n",
    "1) Створити 3 функції: функцію створення списку перестановок, функцію підрахунку добутків та функцію підрахунку загальної суми.\n",
    "\n",
    "2) Кожна функція має супроводжуватись рядком документації, що буде коротко описувати її призначення.\n",
    "\n",
    "3) Розмірність квадратної матриці має вводитись користувачем з клавіатури. Підрахунки виконувати лише в тому разі, якщо користувач введе ціле додатне число.\n",
    "\n",
    "4) Загальний результат повинен підраховуватись за допомогою композиції функцій.\n",
    "\n",
    "За бажання можна перевірити правильність роботи програми за допомогою функції np.linalg.det(a)."
   ]
  },
  {
   "cell_type": "code",
   "execution_count": 3,
   "metadata": {
    "id": "ifNX2M7LXm7f"
   },
   "outputs": [
    {
     "name": "stdout",
     "output_type": "stream",
     "text": [
      "Enter the n: 5\n",
      "Your matrix=\n",
      " [[3 1 2 8 9]\n",
      " [0 7 5 3 6]\n",
      " [9 9 5 8 5]\n",
      " [6 7 8 5 4]\n",
      " [8 8 1 1 3]]\n",
      "det= 12788\n"
     ]
    }
   ],
   "source": [
    "import numpy as np\n",
    "import itertools\n",
    "\n",
    "def random_matrix(dim):\n",
    "    \"\"\"\n",
    "    The function generates dim x dim array of integers\n",
    "    between 0 and 10.\n",
    "    \"\"\"\n",
    "    matrix = np.random.randint(10, size = (dim, dim))\n",
    "    return matrix\n",
    "\n",
    "def coordinates(n):\n",
    "    \"\"\"\n",
    "    Функція визначає координати елементів матриці,\n",
    "    в порядку їх подальшого перебору методом перестановки\n",
    "    \"\"\"\n",
    "    t = list(itertools.permutations(range(n), n))\n",
    "    lst=[]\n",
    "    # генеруємо список з координатами елементів\n",
    "    for i in range(len(t)):\n",
    "        for j in range(n):\n",
    "            lst.append([j, t[i][j]])\n",
    "    return lst\n",
    "\n",
    "def znak(lst):\n",
    "    \"\"\"\n",
    "    Функція визначає знак майбутнього добутку\n",
    "    за кількістю перестановок рядків у матриці\n",
    "    \"\"\"\n",
    "    z = []  # список елементів на визначення перестановок\n",
    "    p = 0  # лічильник на +-\n",
    "    q=[]\n",
    "\n",
    "    for i in range(len(lst)):\n",
    "        z.append(lst[i][1])\n",
    "        if (i + 1) % n == 0 and i != 0:\n",
    "            for l in range(n - 1):\n",
    "                for j in range(n - l - 1):\n",
    "                    if z[j] > z[j + 1]:\n",
    "                        p += 1\n",
    "                        z[j], z[j + 1] = z[j + 1], z[j]\n",
    "            if p % 2 == 0:\n",
    "                q.append(1)\n",
    "\n",
    "            else:\n",
    "                q.append(0)\n",
    "            z, p = [], 0\n",
    "    return q\n",
    "\n",
    "def Spysok_perestan(lst,k):\n",
    "    \"\"\"\n",
    "    Функція, у якій під вже відомі координати перебору\n",
    "    підставляються реальні елементи\n",
    "    \"\"\"\n",
    "    lst2=[]\n",
    "    #генеруємо список із елементами матриці в порядку майбутнього множення(додавання) за способом зміни рядків\n",
    "    for i in range(len(lst)):\n",
    "        lst2.append(k[lst[i][0]][lst[i][1]])\n",
    "    return lst2 #повертає всіх перебраних елементів\n",
    "\n",
    "def dobytky(lst):\n",
    "    \"\"\"\n",
    "    Функція повертає значення всіх добутків,\n",
    "    які потім будуть додаватися для знаходження визначника\n",
    "    \"\"\"\n",
    "    lt = [] # список із добутками\n",
    "    p=1\n",
    "    for i in range(len(lst)):\n",
    "        p*=lst[i]\n",
    "        if (i+1)%n==0:\n",
    "            lt.append(p)\n",
    "            p=1\n",
    "    return lt #повертає добуток переборів\n",
    "\n",
    "def det(z,d):\n",
    "    \"\"\"\n",
    "    Функція, у якій в добутках елементів вже враховується знак.\n",
    "    Знаходиться сума, сам визначник матриці\n",
    "    \"\"\"\n",
    "    sum=0\n",
    "    for i in range(len(z)):\n",
    "        if z[i]==0:\n",
    "            d[i]=-d[i]\n",
    "        sum+=d[i]\n",
    "    return sum\n",
    "\n",
    "\n",
    "n=int(input(\"Enter the n: \"))\n",
    "\n",
    "k=random_matrix(n)\n",
    "\n",
    "print(\"Your matrix=\\n\", k)\n",
    "\n",
    "coor=coordinates(n)\n",
    "\n",
    "per=Spysok_perestan(coor,k)\n",
    "\n",
    "dob=dobytky(per)\n",
    "\n",
    "print(\"det=\",det(znak(coor),dob))"
   ]
  },
  {
   "cell_type": "code",
   "execution_count": null,
   "metadata": {},
   "outputs": [],
   "source": []
  },
  {
   "cell_type": "code",
   "execution_count": null,
   "metadata": {},
   "outputs": [],
   "source": []
  }
 ],
 "metadata": {
  "colab": {
   "collapsed_sections": [],
   "name": "Practice_7_KM-01_.ipynb",
   "provenance": []
  },
  "kernelspec": {
   "display_name": "Python 3",
   "language": "python",
   "name": "python3"
  },
  "language_info": {
   "codemirror_mode": {
    "name": "ipython",
    "version": 3
   },
   "file_extension": ".py",
   "mimetype": "text/x-python",
   "name": "python",
   "nbconvert_exporter": "python",
   "pygments_lexer": "ipython3",
   "version": "3.8.3"
  }
 },
 "nbformat": 4,
 "nbformat_minor": 1
}
