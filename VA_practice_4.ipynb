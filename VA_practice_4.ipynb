products_list = [29.25, 48.99, 99.98, 124.65, 214.30, 543.90, 799.85]
list_procent=[]
list_end=[]
print('**Discount table:**')
for i in range(len(products_list)):
    list_procent.append(products_list[i]*0.4)
    list_end.append(products_list[i]-list_procent[i])
    print("\n","**", products_list[i]," ",round(list_procent[i], 2)," ", round(list_end[i],2),"**", sep="")