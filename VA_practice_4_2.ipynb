{
 "metadata": {
  "language_info": {
   "codemirror_mode": {
    "name": "ipython",
    "version": 3
   },
   "file_extension": ".py",
   "mimetype": "text/x-python",
   "name": "python",
   "nbconvert_exporter": "python",
   "pygments_lexer": "ipython3",
   "version": "3.8.3-final"
  },
  "orig_nbformat": 2,
  "kernelspec": {
   "name": "Python 3.8.3 64-bit ('base': conda)",
   "display_name": "Python 3.8.3 64-bit ('base': conda)",
   "metadata": {
    "interpreter": {
     "hash": "dca0ade3e726a953b501b15e8e990130d2b7799f14cfd9f4271676035ebe5511"
    }
   }
  }
 },
 "nbformat": 4,
 "nbformat_minor": 2,
 "cells": [
  {
   "cell_type": "code",
   "execution_count": 71,
   "metadata": {},
   "outputs": [
    {
     "output_type": "stream",
     "name": "stdout",
     "text": [
      "q and w\n"
     ]
    }
   ],
   "source": [
    "i=0\n",
    "a=[\"A\"]\n",
    "while a[i].isalpha():\n",
    "    a.append(input())\n",
    "    i+=1\n",
    "del(a[0])\n",
    "del(a[-1])\n",
    "if len(a)==1:\n",
    "    print(*a)\n",
    "elif len(a)==2:\n",
    "    print(a[0],\"and\",a[1])\n",
    "else:\n",
    "    for i in range(len(a)-1):\n",
    "        print(a[i],\",\",sep=\"\", end=\"\")\n",
    "    print(\"and\", *a[-1:])"
   ]
  },
  {
   "cell_type": "code",
   "execution_count": null,
   "metadata": {},
   "outputs": [],
   "source": []
  }
 ]
}