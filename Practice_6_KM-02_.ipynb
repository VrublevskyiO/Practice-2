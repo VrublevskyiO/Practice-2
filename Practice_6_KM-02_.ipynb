{
 "cells": [
  {
   "cell_type": "markdown",
   "metadata": {
    "id": "FMqboNwO4rVs"
   },
   "source": [
    "# **Курс \"Програмування на мові Python\"**\n",
    "\n",
    "##### Викладачі:\n",
    "##### Борисенко Павло Борисович\n",
    "##### Щьоголєв Максим Олегович\n"
   ]
  },
  {
   "cell_type": "markdown",
   "metadata": {
    "id": "A2T6MigL5Z06"
   },
   "source": [
    "## **Практичне зайняття №6**\n",
    "\n",
    "### Тема: \"Робота з рядками. Глибокі копії об'єктів.\""
   ]
  },
  {
   "cell_type": "markdown",
   "metadata": {},
   "source": [
    "### **Завдання 1 (2,5 бали)**\n",
    "\n",
    "Модель tf-pose-estimation (https://github.com/ildoonet/tf-pose-estimation) призначена для розпізнавання 18 ключових точок на тілі людини. Кожна точка розпізнається з певною достовірністю, що вимірюється у відсотках. Модель виводить результати у вигляді рядка:\n",
    "\n",
    "```\n",
    "[BodyPart:0-(0.55, 0.17) score=0.81 BodyPart:1-(0.49, 0.27) score=0.85 BodyPart:2-(0.41, 0.26) score=0.67 \n",
    "BodyPart:3-(0.33, 0.37) score=0.72 BodyPart:4-(0.36, 0.48) score=0.78 BodyPart:5-(0.58, 0.27) score=0.81 \n",
    "BodyPart:6-(0.65, 0.38) score=0.88 BodyPart:7-(0.62, 0.48) score=0.86 BodyPart:8-(0.43, 0.48) score=0.60 \n",
    "BodyPart:9-(0.43, 0.66) score=0.67 BodyPart:10-(0.53, 0.79) score=0.56 BodyPart:11-(0.53, 0.48) score=0.56 \n",
    "BodyPart:12-(0.59, 0.66) score=0.75 BodyPart:13-(0.49, 0.80) score=0.50 BodyPart:14-(0.54, 0.15) score=0.73 \n",
    "BodyPart:15-(0.56, 0.15) score=0.85 BodyPart:16-(0.48, 0.16) score=0.81 BodyPart:17-(0.83, 0.18) score=0.79]\n",
    "```\n",
    "\n",
    "Написати програму, яка створюватиме два списки, points та scores. В першому мають послідовно зберігатися координати точок, в другому - їхні достовірності (scores). Для поданого рядка списки матимуть вигляд:\n",
    "\n",
    "```\n",
    "points = [0.55,0.17,0.49,0.27,0.41,0.26,0.33,0.37,0.36,0.48,0.58,0.27,0.65,0.38,0.62,0.48,0.43,0.48,\n",
    "0.43,0.66,0.53,0.79,0.53,0.48,0.59,0.66,0.49,0.80,0.54,0.15,0.56,0.15,0.48,0.16,0.83,0.18]\n",
    "scores = [0.81,0.85,0.67,0.72,0.78,0.81,0.88,0.86,0.60,0.67,0.56,0.56,0.75,0.50,0.73,0.85,0.81,0.79]\n",
    "```\n",
    "\n",
    "1. Кількість розпізнаних точок може коливатись у межах від 0 до 18.\n",
    "\n",
    "2. Під час оцінювання коду враховуватиметься його оптимальність.\n",
    "\n",
    "3. У змінній pose_estimation зберігається тестовий рядок. Для перевірки роботи можуть використовуватись інші рядки такого ж формату."
   ]
  },
  {
   "cell_type": "code",
   "execution_count": 1,
   "metadata": {},
   "outputs": [
    {
     "name": "stdout",
     "output_type": "stream",
     "text": [
      "[0.55, 0.17, 0.49, 0.27, 0.41, 0.26, 0.33, 0.37, 0.36, 0.48, 0.58, 0.27, 0.65, 0.38, 0.62, 0.48, 0.43, 0.48, 0.43, 0.66, 0.53, 0.79, 0.53, 0.48, 0.59, 0.66, 0.49, 0.8, 0.54, 0.15, 0.56, 0.15, 0.48, 0.16, 0.83, 0.18]\n",
      "[0.81, 0.85, 0.67, 0.72, 0.78, 0.81, 0.88, 0.86, 0.6, 0.67, 0.56, 0.56, 0.75, 0.5, 0.73, 0.85, 0.81, 0.79]\n"
     ]
    }
   ],
   "source": [
    "pose_estimation = \"[BodyPart:0-(0.55, 0.17) score=0.81 BodyPart:1-(0.49, 0.27) score=0.85 BodyPart:2-(0.41, 0.26) score=0.67 BodyPart:3-(0.33, 0.37) score=0.72 BodyPart:4-(0.36, 0.48) score=0.78 BodyPart:5-(0.58, 0.27) score=0.81 BodyPart:6-(0.65, 0.38) score=0.88 BodyPart:7-(0.62, 0.48) score=0.86 BodyPart:8-(0.43, 0.48) score=0.60 BodyPart:9-(0.43, 0.66) score=0.67 BodyPart:10-(0.53, 0.79) score=0.56 BodyPart:11-(0.53, 0.48) score=0.56 BodyPart:12-(0.59, 0.66) score=0.75 BodyPart:13-(0.49, 0.80) score=0.50 BodyPart:14-(0.54, 0.15) score=0.73 BodyPart:15-(0.56, 0.15) score=0.85 BodyPart:16-(0.48, 0.16) score=0.81 BodyPart:17-(0.83, 0.18) score=0.79]\"\n",
    "\n",
    "k=0\n",
    "lst1,lst2=[],[]\n",
    "st1, st2=\"\",\"\"\n",
    "if pose_estimation!=\"[]\":\n",
    "    for i in pose_estimation:                #Перебираю кожен елемент строки\n",
    "        k+=1\n",
    "        if i == \"(\":\n",
    "            for j in range(k,pose_estimation[k:].find(\")\")+k):\n",
    "               st1+=pose_estimation[j]              #Знаходжу потрібні частини строки і додаю їх до st1\n",
    "            st1+=\", \"\n",
    "        if i==\"=\":\n",
    "            for j in range(k,pose_estimation[k:].find(\" \")+k):\n",
    "               st2+=pose_estimation[j]              #Аналонічна дія для другої строки st2\n",
    "            st2+=\",\"\n",
    "\n",
    "    st2=st2[:-1]\n",
    "    st2+=pose_estimation[-5:-1]                    #Вношу корективи та створюю два списки lst1 та lst2\n",
    "\n",
    "    lst2=st2.split(\",\")\n",
    "    lst1=st1.split(\",\")\n",
    "    del lst1[-1]\n",
    "\n",
    "    for i in range(len(lst1)):                    #Перетворюю елементи списків у чисельний тип\n",
    "        lst1[i]=float(lst1[i])\n",
    "        if i%2!=0:\n",
    "            lst2[i//2]=float(lst2[i//2])\n",
    "    print(lst1)\n",
    "    print(lst2)\n",
    "else:\n",
    "    print(\"0\")"
   ]
  },
  {
   "cell_type": "markdown",
   "metadata": {},
   "source": [
    "### **Завдання 2 (0,5 бал)**\n",
    "\n",
    "Створіть рядок формату, що дозволить отримати дані з кортежу format_tuple та вивести рядок:\n",
    "\n",
    "```\n",
    "The initial lot price of $358.4 at the Liverpool auction exceeded the expected price by 21%, \n",
    "but the lot with number 0134 was nevertheless sold for $845.\n",
    "```\n",
    "\n",
    "У рядку формату мають бути 7 заповнювачів. Кортеж format_list в процесі роботи змінювани не можна."
   ]
  },
  {
   "cell_type": "code",
   "execution_count": null,
   "metadata": {},
   "outputs": [],
   "source": [
    "format_tuple = ('Liverpool', 845.15, 21, 134, 358.45, 'price')\n",
    "format_tuple1=('Liverpool',845.15, 21, str(134).zfill(4), 358.45, 'price')\n",
    "print(\"\"\"The initial lot {5} of ${4:.4} at the {0} auction exceeded the expected {5} by {2}%,\n",
    "but the lot with number {3} was nevertheless sold for ${1:.0f}.\"\"\".format(*format_tuple1))"
   ]
  }
 ],
 "metadata": {
  "colab": {
   "collapsed_sections": [
    "LyWSBl0DOxJ8",
    "5qzvb1n_va3D",
    "fRXqCrBOmwAX"
   ],
   "name": "Practice_6.ipynb",
   "provenance": []
  },
  "kernelspec": {
   "display_name": "Python 3",
   "language": "python",
   "name": "python3"
  },
  "language_info": {
   "codemirror_mode": {
    "name": "ipython",
    "version": 3
   },
   "file_extension": ".py",
   "mimetype": "text/x-python",
   "name": "python",
   "nbconvert_exporter": "python",
   "pygments_lexer": "ipython3",
   "version": "3.8.3"
  }
 },
 "nbformat": 4,
 "nbformat_minor": 1
}
