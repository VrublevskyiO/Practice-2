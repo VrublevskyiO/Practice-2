{
 "cells": [
  {
   "cell_type": "markdown",
   "metadata": {
    "id": "FMqboNwO4rVs"
   },
   "source": [
    "# **Курс \"Програмування на мові Python\"**\n",
    "\n",
    "##### Викладачі:\n",
    "##### Борисенко Павло Борисович\n",
    "##### Щьоголєв Максим Олегович\n"
   ]
  },
  {
   "cell_type": "markdown",
   "metadata": {
    "id": "A2T6MigL5Z06"
   },
   "source": [
    "## **Практичне зайняття №14**\n",
    "\n",
    "### Тема: \"Робота з файлами\""
   ]
  },
  {
   "cell_type": "markdown",
   "metadata": {
    "id": "cfCdgK2zXm7e"
   },
   "source": [
    "### **Завдання 1 (1,5 бали)**\n",
    "\n",
    "У 1939 році друком вийшов роман американського письменика Ернеста Вінсента Райта \"Ґедсбі\". Особливу увагу публіки він здобув через те, що письменник жодного разу не використав у романі літеру \"e\" (роман складається з більше ніж 50,000 слів), яка є найбільш вживаною літерою в англійській мові.\n",
    "\n",
    "Порахуйте кількість входжень кожної літери у текст роману. Виведіть список літер англійського алфавіту, а також інформацію про те, скільки відсотків від усіх літер тексту складає кожна літера алфавіту.\n",
    "\n",
    "Зауваження:\n",
    "\n",
    "1. Програма має ігнорувати будь-які символи, окрім літер.\n",
    "\n",
    "2. Переведіть усі літери у верхній або у нижній регістр.\n",
    "\n",
    "3. Під час виведення відсортуйте літери у порядку зменшення їхнього відсотка. Літера \"e\" має стояти на останньому місці у цьому списку.\n",
    "\n",
    "4. Виведіть перші 5 та останні 5 літер відсортованого списку разом з відсотковими значеннями, що їм відповідають."
   ]
  },
  {
   "cell_type": "code",
   "execution_count": null,
   "metadata": {
    "id": "u4-fHJJ6U462",
    "tags": [
     "outputPrepend"
    ]
   },
   "outputs": [],
   "source": [
    "import string\n",
    "\n",
    "file = open('gadsby.txt', 'r')\n",
    "text = file.read()\n",
    "file.close()\n",
    "\n",
    "text=text.upper()\n",
    "\n",
    "letters=string.ascii_uppercase\n",
    "d = {a: 0 for a in letters}\n",
    "\n",
    "\n",
    "for letter in text:\n",
    "    if letter in letters:\n",
    "        d[letter]+=1\n",
    "\n",
    "sorted_by_value = sorted(d.items(), key=lambda kv: kv[1])\n",
    "sorted_by_value.reverse()\n",
    "\n",
    "summ=sum(d.values())\n",
    "\n",
    "for i in range(26):\n",
    "   if (i<5) or (i>20):\n",
    "         print(*sorted_by_value[i][0], round((sorted_by_value[i][1]*100)/summ,3),\"%\")\n"
   ]
  },
  {
   "cell_type": "markdown",
   "metadata": {
    "id": "A34oz70eU463"
   },
   "source": [
    "### **Завдання 2 (1,5 бали)**\n",
    "\n",
    "Створіть CSV-файл, що буде містити від 5 до 10 пісень (творів) вашого улюбленого музиканта. Назва файлу - ім'я музиканта (композитора) або назва гурту.\n",
    "\n",
    "1. Обов'язково додайте до файлу рядок з назвами двох колонок (Song, Year) або (Composition, Year).\n",
    "\n",
    "2. Після запису файлу роздрукуйте назву файлу та усі наявні у файлі рядки (включно із заголовками).\n",
    "\n",
    "3. Для запису та зчитування рядків скористайтесь функціями csv.DictWriter() та csv.DictReader()."
   ]
  },
  {
   "cell_type": "code",
   "execution_count": null,
   "metadata": {
    "id": "MEJIrG1GU463"
   },
   "outputs": [],
   "source": [
    "import csv\n",
    "\n",
    "def csv_dict_reader(file_r):\n",
    "    reader = csv.DictReader(file_r, delimiter=',')\n",
    "    for line in reader:\n",
    "        print(line[\"Song\"]),\n",
    "        print(line[\"Year\"])\n",
    "\n",
    "\n",
    "with open(\"AskingAlexandria.csv\", \"w\") as f_w:\n",
    "    g_line=['Song','Year']\n",
    "    line=csv.DictWriter(f_w,g_line)\n",
    "    line.writeheader()\n",
    "    line.writerow({'Song' : 'Here I Am', 'Year' : '2016' })\n",
    "    line.writerow({'Song': 'Dear Insanity', 'Year': '2011'})\n",
    "    line.writerow({'Song': 'I Am One', 'Year': '2017'})\n",
    "    line.writerow({'Song': 'Into The Fire', 'Year': '2017'})\n",
    "    line.writerow({'Song': 'Undivided', 'Year': '2015'})\n",
    "    line.writerow({'Song': 'When The Lights Come One', 'Year': '2017'})\n",
    "    line.writerow({'Song': 'Until The End', 'Year': '2014'})\n",
    "    line.writerow({'Song': 'Vultures', 'Year': '2014'})\n",
    "\n",
    "\n",
    "with open(\"AskingAlexandria.csv\", 'r') as f_r:\n",
    "    csv_dict_reader(f_r)"
   ]
  },
  {
   "cell_type": "markdown",
   "metadata": {
    "id": "Jb-eSBsWU464"
   },
   "source": [
    "### **Завдання 3 (бонусне, 1 бал)**\n",
    "\n",
    "COCO Dataset - набір фотографій та анотацій до них. Його дуже часто використовують для тренування класифікаторів, призначених для розпізнавання об'єктів та визначення ключових точок на зображеннях.\n",
    "\n",
    "Завантажте файли з описом фотографій COCO Dataset за посиланням: http://images.cocodataset.org/annotations/image_info_test2017.zip\n",
    "\n",
    "1. Відкрийте файл image_info_test-dev2017.json. Інформація про фотографії з бази COCO міститься у полі \"images\". Інформація про категорії, на які розділені всі фотографії, міститься у полі \"categories\".\n",
    "\n",
    "2. Визначте кількість фотографій, інформацію про які можна знайти у цьому файлі (кількість елементів, що відповідають ключу \"images\").\n",
    "\n",
    "3. Визначте кількість наявних категорій (кількість елементів, що відповідають ключу \"categories\").\n",
    "\n",
    "4. Виведіть посилання на фотографію 000000000001.jpg (\"coco_url\"), висоту цієї фотографії (\"height\"), ширину (\"width\") та її ідентифікатор (\"id\").\n",
    "\n",
    "5. Опис структури JSON-файлу для набору фотографій COCO можна знайти за посиланням: https://cocodataset.org/#format-data\n",
    "\n",
    "6. Щоб перевірити правильність результатів, у VS Code встановіть розширення JSON та відкрийте файл image_info_test-dev2017.json. Розширення автоматично визначає кількість елементів у кожному полі."
   ]
  },
  {
   "cell_type": "code",
   "execution_count": null,
   "metadata": {
    "id": "74C6WKB_U464"
   },
   "outputs": [],
   "source": []
  }
 ],
 "metadata": {
  "colab": {
   "collapsed_sections": [],
   "name": "Practice_14_KM_01.ipynb",
   "provenance": []
  },
  "kernelspec": {
   "display_name": "Python 3",
   "language": "python",
   "name": "python3"
  },
  "language_info": {
   "codemirror_mode": {
    "name": "ipython",
    "version": 3
   },
   "file_extension": ".py",
   "mimetype": "text/x-python",
   "name": "python",
   "nbconvert_exporter": "python",
   "pygments_lexer": "ipython3",
   "version": "3.8.3"
  }
 },
 "nbformat": 4,
 "nbformat_minor": 1
}
