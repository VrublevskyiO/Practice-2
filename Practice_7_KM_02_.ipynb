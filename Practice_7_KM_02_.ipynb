{
 "cells": [
  {
   "cell_type": "markdown",
   "metadata": {
    "id": "FMqboNwO4rVs"
   },
   "source": [
    "# **Курс \"Програмування на мові Python\"**\n",
    "\n",
    "##### Викладачі:\n",
    "##### Борисенко Павло Борисович\n",
    "##### Щьоголєв Максим Олегович\n"
   ]
  },
  {
   "cell_type": "markdown",
   "metadata": {
    "id": "A2T6MigL5Z06"
   },
   "source": [
    "## **Практичне зайняття №7**\n",
    "\n",
    "### Тема: \"Перевірка даних. Робота з виключеннями. Регулярні вирази\""
   ]
  },
  {
   "cell_type": "markdown",
   "metadata": {
    "id": "cfCdgK2zXm7e"
   },
   "source": [
    "### **Завдання 1 (1,5 бали)**\n",
    "\n",
    "Переробити завдання №1 практичної роботи №6 з використанням регулярних виразів.\n",
    "\n",
    "1. Створити шаблон регулярного виразу.\n",
    "\n",
    "2. За допомогою функції compile() створити об'єкт регулярного виразу.\n",
    "\n",
    "3. Всі інші вимоги залишаються такими ж, як і в оригінальному завданні."
   ]
  },
  {
   "cell_type": "code",
   "execution_count": 5,
   "metadata": {
    "id": "ifNX2M7LXm7f"
   },
   "outputs": [
    {
     "name": "stdout",
     "output_type": "stream",
     "text": [
      "[0.55, 0.17, 0.49, 0.27, 0.41, 0.26, 0.33, 0.37, 0.36, 0.48, 0.58, 0.27, 0.65, 0.38, 0.62, 0.48, 0.43, 0.48, 0.43, 0.66, 0.53, 0.79, 0.53, 0.48, 0.59, 0.66, 0.49, 0.8, 0.54, 0.15, 0.56, 0.15, 0.48, 0.16, 0.83, 0.18]\n",
      "[0.81, 0.85, 0.67, 0.72, 0.78, 0.81, 0.88, 0.86, 0.6, 0.67, 0.56, 0.56, 0.75, 0.5, 0.73, 0.85, 0.81, 0.79]\n"
     ]
    }
   ],
   "source": [
    "import re\n",
    "lst1,lst2=[],[]\n",
    "pose_estimation = \"[BodyPart:0-(0.55, 0.17) score=0.81 BodyPart:1-(0.49, 0.27) score=0.85 BodyPart:2-(0.41, 0.26) score=0.67 BodyPart:3-(0.33, 0.37) score=0.72 BodyPart:4-(0.36, 0.48) score=0.78 BodyPart:5-(0.58, 0.27) score=0.81 BodyPart:6-(0.65, 0.38) score=0.88 BodyPart:7-(0.62, 0.48) score=0.86 BodyPart:8-(0.43, 0.48) score=0.60 BodyPart:9-(0.43, 0.66) score=0.67 BodyPart:10-(0.53, 0.79) score=0.56 BodyPart:11-(0.53, 0.48) score=0.56 BodyPart:12-(0.59, 0.66) score=0.75 BodyPart:13-(0.49, 0.80) score=0.50 BodyPart:14-(0.54, 0.15) score=0.73 BodyPart:15-(0.56, 0.15) score=0.85 BodyPart:16-(0.48, 0.16) score=0.81 BodyPart:17-(0.83, 0.18) score=0.79]\"\n",
    "if pose_estimation!=\"[]\":\n",
    "    Sample = r'[^\\(a-zA-Z:,= )]+[0-9]{2,}'\n",
    "    rePattern = re.compile(Sample)\n",
    "    result = rePattern.findall(pose_estimation)\n",
    "    for i in range(2,len(result),3):\n",
    "        lst2.append(float(result[i]))\n",
    "    for i in range(len(result)):\n",
    "        if (i+1)%3!=0:\n",
    "            lst1.append(float(result[i]))\n",
    "    print(lst1)\n",
    "    print(lst2)\n",
    "else: print(\"0\")\n",
    "#Cуперова практика, з цими новими методами відчуваю як прогресую. Дякую!"
   ]
  },
  {
   "cell_type": "markdown",
   "metadata": {
    "id": "M1Sg0vXJXm7n"
   },
   "source": [
    "### **Завдання 2 (1,5 бали)**\n",
    "\n",
    "Написати програму підрахунку коренів квадратного рівняння без попередніх перевірок.\n",
    "\n",
    "1. Користувач має вводити коефіцієнти a, b та c з клавіатури.\n",
    "\n",
    "2. Програма має обробляти помилки ділення на 0, кореня від'ємного числа та інші, а також виводити відповідні повідомлення у разі виникнення таких помилок.\n",
    "\n",
    "3. Якщо рівняння не має коренів, программа має генерувати помилку за допомогою ключового слова raise, а потім обробляти її.\n",
    "\n",
    "4. Правильно написана програма при виникненні різних помилок має виводити текст помилки, а також різні повідомлення про те, в чому суть цих помилок. Необроблених помилок бути не повинно."
   ]
  },
  {
   "cell_type": "code",
   "execution_count": null,
   "metadata": {
    "id": "co7fcAuvXm7o"
   },
   "outputs": [
    {
     "name": "stdout",
     "output_type": "stream",
     "text": [
      "\n",
      "Enter the values:\n"
     ]
    }
   ],
   "source": [
    "k=\"1\"\n",
    "while k==\"1\":\n",
    "    a,b,c = \"\",\"\",\"\"\n",
    "    print(\"\\nEnter the values:\")\n",
    "    # Помилки можуть бути: 1.а=0 2.Змінні не числового типу\n",
    "    while True:\n",
    "        try:\n",
    "            a = float(input(\"\\na=\"))\n",
    "            if a != 0:\n",
    "                break\n",
    "            print(\"Variable 'a' cannot be zero\\nPlease, try again\")\n",
    "        except ValueError:\n",
    "            print(\"Type error. Enter the numb.\")\n",
    "\n",
    "    while True:\n",
    "        try:\n",
    "           if b == \"\":\n",
    "               b = float(input(\"\\nb=\"))\n",
    "           if c == \"\":\n",
    "               c = float(input(\"\\nc=\"))\n",
    "           break\n",
    "        except ValueError:\n",
    "            print(\"Type error. Enter the numb.\")\n",
    "\n",
    "    d = b**2-4*a*c # Розглянути три варіанти значень дискримінанта\n",
    "    try:\n",
    "        if d<0:\n",
    "           raise ValueError(\"\\nThe equation has no solutions\")\n",
    "        elif d==0:\n",
    "           print('\\nx=',-b / (2 * a))\n",
    "        else:\n",
    "           print('\\nx1=',(-b+(d**0.5))/(2*a))\n",
    "           print(\"x2=\",(-b-(d**0.5))/(2*a))\n",
    "    except ValueError as ve:\n",
    "        print(ve)\n",
    "\n",
    "    k=input(\"Try again? (Enter 0 or 1)\\n\")"
   ]
  },
  {
   "cell_type": "code",
   "execution_count": null,
   "metadata": {},
   "outputs": [],
   "source": []
  }
 ],
 "metadata": {
  "colab": {
   "collapsed_sections": [],
   "name": "Practice_7_KM-01_.ipynb",
   "provenance": []
  },
  "kernelspec": {
   "display_name": "Python 3",
   "language": "python",
   "name": "python3"
  },
  "language_info": {
   "codemirror_mode": {
    "name": "ipython",
    "version": 3
   },
   "file_extension": ".py",
   "mimetype": "text/x-python",
   "name": "python",
   "nbconvert_exporter": "python",
   "pygments_lexer": "ipython3",
   "version": "3.8.3"
  }
 },
 "nbformat": 4,
 "nbformat_minor": 1
}
